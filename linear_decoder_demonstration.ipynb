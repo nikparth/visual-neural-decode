{
 "cells": [
  {
   "cell_type": "markdown",
   "metadata": {
    "deletable": true,
    "editable": true
   },
   "source": [
    "# Linear Decoder Demonstration"
   ]
  },
  {
   "cell_type": "markdown",
   "metadata": {
    "deletable": true,
    "editable": true
   },
   "source": [
    "This notebook demonstrates how to fit a linear decoder by creating fake data and fitting models to this fake data"
   ]
  },
  {
   "cell_type": "code",
   "execution_count": 1,
   "metadata": {
    "collapsed": true,
    "deletable": true,
    "editable": true
   },
   "outputs": [],
   "source": [
    "import numpy as np\n",
    "import h5py\n",
    "import os"
   ]
  },
  {
   "cell_type": "code",
   "execution_count": 2,
   "metadata": {
    "collapsed": true,
    "deletable": true,
    "editable": true
   },
   "outputs": [],
   "source": [
    "# Import linear decoder classes\n",
    "from linear_decoder_parallelize import LinearDecoderParallelize\n",
    "from linear_decoder import LinearDecoder"
   ]
  },
  {
   "cell_type": "code",
   "execution_count": 3,
   "metadata": {
    "collapsed": true,
    "deletable": true,
    "editable": true
   },
   "outputs": [],
   "source": [
    "####################\n",
    "## Make fake data ##\n",
    "####################  \n",
    "\n",
    "data_type_vec = ['training','validation','testing']\n",
    "\n",
    "## Make fake directories \n",
    "if not os.path.exists('FakeData'):\n",
    "    os.makedirs('FakeData')\n",
    "    for i_data_type in range(len(data_type_vec)):\n",
    "        os.makedirs('FakeData/'+data_type_vec[i_data_type])\n",
    "        os.makedirs('FakeData/'+data_type_vec[i_data_type]+'/images')\n",
    "        os.makedirs('FakeData/'+data_type_vec[i_data_type]+'/activities_spatialSim')\n",
    "        \n",
    "if not os.path.exists('FakeModels'):\n",
    "    os.makedirs('FakeModels')\n",
    "\n",
    "## Generate fake images and activities\n",
    "\n",
    "for i_data_type in range(len(data_type_vec)):\n",
    "\n",
    "    image_dir = 'FakeData/'+data_type_vec[i_data_type]+'/images/'\n",
    "    activity_dir = 'FakeData/'+data_type_vec[i_data_type]+'/activities_spatialSim/'\n",
    "    for i_block in range(3): # just create 3 blocks of each data type\n",
    "        \n",
    "        # images\n",
    "        X = np.random.randint(0,255,(10000,256,256))\n",
    "        save_path = image_dir+str(i_block)+'.h5'\n",
    "        h5_file = h5py.File(save_path,'w')\n",
    "        h5_file.create_dataset('data',data=X)\n",
    "        h5_file.close()\n",
    "        \n",
    "        # activities\n",
    "        Y = np.random.randint(0,255,(10000,41))\n",
    "        save_path = activity_dir+str(i_block)+'_spatialSim.h5'\n",
    "        h5_file = h5py.File(save_path,'w')\n",
    "        h5_file.create_dataset('data',data=Y)\n",
    "        h5_file.close()\n"
   ]
  },
  {
   "cell_type": "markdown",
   "metadata": {
    "deletable": true,
    "editable": true
   },
   "source": [
    "There are two linear decoder classes, LinearDecoderParallelize and LinearDecoder.\n",
    "\n",
    "LinearDecoder gives you less control and doesn't save any intermediate statistics: it loops through every block in the training data and calculates the linear decoder using least squares. If 'create_decoded_images' is True, it then automatically loops through all the training, validation, and testing data to create and save the linear decoded images.\n",
    "\n",
    "LinearDecoderParallelize gives you more control over exactly what you're doing and allows you to parallelize on multiple cpus by computing the X^TX and X^TY statistics for different blocks and saving them individually. You can also create the linear decoded images in parallel.\n",
    "\n",
    "Both of these classes create the same structures: there is a directory created for this linear decoder named using the activity suffix and the string of cell types if fitting to only certain cell types. Within this directory, logs contains text logs of what the linear decoder is doing and the linear decoder weights are contained in model."
   ]
  },
  {
   "cell_type": "code",
   "execution_count": 4,
   "metadata": {
    "collapsed": true,
    "deletable": true,
    "editable": true
   },
   "outputs": [],
   "source": [
    "### Normal linear decoder\n",
    "LinearDecoder.runLD(activity_suffix='spatialSim', LD_directory_suffix = 'LD_images_spatialSim', im_width=128, cell_type_list=None, create_decoded_images=True)"
   ]
  },
  {
   "cell_type": "code",
   "execution_count": 5,
   "metadata": {
    "collapsed": true,
    "deletable": true,
    "editable": true,
    "scrolled": true
   },
   "outputs": [],
   "source": [
    "### Parallelizable linear decoder\n",
    "LinearDecoderParallelize.ComputeStatistics(activity_suffix='spatialSim', block_vec = np.asarray([0,2]))"
   ]
  },
  {
   "cell_type": "code",
   "execution_count": 6,
   "metadata": {
    "collapsed": true,
    "deletable": true,
    "editable": true
   },
   "outputs": [],
   "source": [
    "LinearDecoderParallelize.ComputeStatistics(activity_suffix='spatialSim', block_vec = np.asarray([1]))"
   ]
  },
  {
   "cell_type": "code",
   "execution_count": 7,
   "metadata": {
    "collapsed": true,
    "deletable": true,
    "editable": true
   },
   "outputs": [],
   "source": [
    "LinearDecoderParallelize.CreateFullW(activity_suffix='spatialSim', block_vec = np.arange(0,3))"
   ]
  },
  {
   "cell_type": "code",
   "execution_count": 8,
   "metadata": {
    "collapsed": true,
    "deletable": true,
    "editable": true
   },
   "outputs": [],
   "source": [
    "LinearDecoderParallelize.CreateDecodedImages(activity_suffix='spatialSim', LD_directory_suffix = 'LD_images_spatialSim', block_vec = np.arange(0,3),data_type='training')"
   ]
  },
  {
   "cell_type": "code",
   "execution_count": null,
   "metadata": {
    "collapsed": true,
    "deletable": true,
    "editable": true
   },
   "outputs": [],
   "source": []
  }
 ],
 "metadata": {
  "kernelspec": {
   "display_name": "Python [tensorflow_1]",
   "language": "python",
   "name": "Python [tensorflow_1]"
  },
  "language_info": {
   "codemirror_mode": {
    "name": "ipython",
    "version": 3
   },
   "file_extension": ".py",
   "mimetype": "text/x-python",
   "name": "python",
   "nbconvert_exporter": "python",
   "pygments_lexer": "ipython3",
   "version": "3.5.0"
  },
  "varInspector": {
   "cols": {
    "lenName": 16,
    "lenType": 16,
    "lenVar": 40
   },
   "kernels_config": {
    "python": {
     "delete_cmd_postfix": "",
     "delete_cmd_prefix": "del ",
     "library": "var_list.py",
     "varRefreshCmd": "print(var_dic_list())"
    },
    "r": {
     "delete_cmd_postfix": ") ",
     "delete_cmd_prefix": "rm(",
     "library": "var_list.r",
     "varRefreshCmd": "cat(var_dic_list()) "
    }
   },
   "types_to_exclude": [
    "module",
    "function",
    "builtin_function_or_method",
    "instance",
    "_Feature"
   ],
   "window_display": false
  }
 },
 "nbformat": 4,
 "nbformat_minor": 2
}
